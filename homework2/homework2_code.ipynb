{
 "cells": [
  {
   "cell_type": "code",
   "execution_count": 89,
   "id": "e757e255-48bc-4dea-a33f-3e9a4667311b",
   "metadata": {},
   "outputs": [],
   "source": [
    "using DelimitedFiles\n",
    "using Plots"
   ]
  },
  {
   "cell_type": "code",
   "execution_count": 90,
   "id": "351fd6c0-8abe-433b-a3d8-72c82089e597",
   "metadata": {},
   "outputs": [],
   "source": [
    "function f(x)\n",
    "    angle_in_radians = (π/1) * x\n",
    "    return sin(angle_in_radians)*sin(angle_in_radians)\n",
    "end\n",
    ";"
   ]
  },
  {
   "cell_type": "code",
   "execution_count": 91,
   "id": "79dfa3b7-d012-44e2-9fe8-21645b77db51",
   "metadata": {},
   "outputs": [],
   "source": [
    "function we(nint)\n",
    "    w = zeros(nint)\n",
    "    if(nint == 2)\n",
    "        w[1] = 1.0\n",
    "        w[2] = 1.0\n",
    "    elseif(nint == 3)\n",
    "        w[1] = 5/9\n",
    "        w[2] = 8/9\n",
    "        w[3] = 5/9\n",
    "    elseif(nint == 4)\n",
    "        w[1] = (18 - sqrt(30.0))/36.0\n",
    "        w[2] = (18 + sqrt(30.0))/36.0\n",
    "        w[3] = (18 + sqrt(30.0))/36.0\n",
    "        w[4] = (18 - sqrt(30.0))/36.0\n",
    "    elseif(nint == 5)\n",
    "        w[1] = (322.0-13.0*sqrt(70.0))/900.0\n",
    "        w[2] = (322.0+13.0*sqrt(70.0))/900.0\n",
    "        w[3] = 128.0/225.0\n",
    "        w[4] = (322.0+13.0*sqrt(70.0))/900.0\n",
    "        w[5] = (322.0-13.0*sqrt(70.0))/900.0\n",
    "    end\n",
    "    return w\n",
    "end\n",
    ";"
   ]
  },
  {
   "cell_type": "code",
   "execution_count": 92,
   "id": "db2f6fcd-5f9b-4b2d-8123-08e3bd173f3b",
   "metadata": {},
   "outputs": [],
   "source": [
    "function shl(nen,nint)\n",
    "    pt = zeros(nint)\n",
    "    w = zeros(nint)\n",
    "    # print(\"line 3.2.1\")\n",
    "    if(nint == 2)\n",
    "        pt[1] = -sqrt(3.)/3.;\n",
    "        pt[2] = sqrt(3.)/3.;\n",
    "        w[1] = 1.;\n",
    "        w[2] = 1.;\n",
    "    elseif(nint == 3)\n",
    "        pt[1] = sqrt(3/5);\n",
    "        pt[2] = 0;\n",
    "        pt[3] = -sqrt(3/5);\n",
    "        w[1] = 5/9;\n",
    "        w[2] = 8/9;\n",
    "        w[3] = 5/9;\n",
    "    elseif(nint == 4)\n",
    "        pt[1] = sqrt((3+2*sqrt(6/5))/7);\n",
    "        pt[2] = sqrt((3-2*sqrt(6/5))/7);\n",
    "        pt[3] = -sqrt((3-2*sqrt(6/5))/7);\n",
    "        pt[4] = -sqrt((3+2*sqrt(6/5))/7);\n",
    "        w[1] = (18-sqrt(30.))/36;\n",
    "        w[2] = (18+sqrt(30.))/36;\n",
    "        w[3] = (18+sqrt(30.))/36;\n",
    "        w[4] = (18-sqrt(30.))/36;\n",
    "    elseif(nint == 5)\n",
    "        pt[1] =  (1/3)*sqrt((5+2*sqrt(10/7)));\n",
    "        pt[2] =  (1/3)*sqrt((5-2*sqrt(10/7)));\n",
    "        pt[3] =   0;\n",
    "        pt[4] = -(1/3)*sqrt((5-2*sqrt(10/7)));\n",
    "        pt[5] = -(-1/3)*sqrt((5+2*sqrt(10/7)));\n",
    "        w[1] = (322-13*sqrt(70))/900;\n",
    "        w[2] = (322+13*sqrt(70))/900;\n",
    "        w[3] =  128/225;\n",
    "        w[4] = (322+13*sqrt(70))/900;\n",
    "        w[5] = (322-13*sqrt(70))/900;\n",
    "    end\n",
    "    sh = zeros(nen, nint)\n",
    "    for l=1:nint\n",
    "        t=pt[l];\n",
    "        if(nen==2)\n",
    "            sh[1,l] = (1.0-t)/2.0;\n",
    "            sh[2,l] = (1.0+t)/2.0;\n",
    "        elseif(nen==3)\n",
    "            sh[1,l] = t*(t-1.0)/2.0;\n",
    "            sh[2,l] = -(t-1)*(t+1);\n",
    "            sh[3,l] = t*(t+1.0)/2.0;\n",
    "        elseif(nen==4)\n",
    "            sh[1,l] = -( 9/16)*(t+(1/3))*(t-(1/3))*(t-1);\n",
    "            sh[2,l] =  (27/16)*(t+1)    *(t-(1/3))*(t-1);\n",
    "            sh[3,l] = -(27/16)*(t+1)    *(t+(1/3))*(t-1);\n",
    "            sh[4,l] =  ( 9/16)*(t+1)    *(t+(1/3))*(t-(1/3));\n",
    "        elseif(nen==5)\n",
    "            sh[1,l] =  (2/3)*(t+(1/2))*        t*(t-(1/2))*(t-1);\n",
    "            sh[2,l] = -(8/3)*    (t+1)*        t*(t-(1/2))*(t-1);\n",
    "            sh[3,l] =      4*    (t+1)*(t+(1/2))*(t-(1/2))*(t-1);\n",
    "            sh[4,l] = -(8/3)*    (t+1)*(t+(1/2))*        t*(t-1);\n",
    "            sh[5,l] =  (2/3)*    (t+1)*(t+(1/2))*        t*(t-(1/2));\t \n",
    "        end\n",
    "    end\n",
    "    return sh\n",
    "end\n",
    ";"
   ]
  },
  {
   "cell_type": "code",
   "execution_count": 93,
   "id": "7e06de1a-3036-4133-b986-64d24997bef4",
   "metadata": {},
   "outputs": [],
   "source": [
    "a = -2.0\n",
    "b = +2.0\n",
    ";"
   ]
  },
  {
   "cell_type": "code",
   "execution_count": 94,
   "id": "ee8f568a-c3ba-46c4-a789-dae887d3c528",
   "metadata": {},
   "outputs": [],
   "source": [
    "k = 1\n",
    ";"
   ]
  },
  {
   "cell_type": "code",
   "execution_count": 102,
   "id": "1355f2c1-82f6-455f-89c7-64f5494e48f1",
   "metadata": {},
   "outputs": [
    {
     "data": {
      "text/plain": [
       "simulate (generic function with 1 method)"
      ]
     },
     "execution_count": 102,
     "metadata": {},
     "output_type": "execute_result"
    }
   ],
   "source": [
    "function simulate(polinomial_degree)\n",
    "    error = []\n",
    "    nell  = []\n",
    "    xl = []\n",
    "    for m in 1:5\n",
    "        nel = 4^m # escolhendo o número de elementos\n",
    "        k = polinomial_degree # recebendo o grau do polinômio\n",
    "        np = k * nel + 1 # número de nós da malha\n",
    "        # print(\"line 1\")\n",
    "        nen = k + 1 # número de nós no elemento\n",
    "        nint = k + 1 # número de pontos de integração\n",
    "\n",
    "        h = (b - a)/nel # espaçamento entre os elementos\n",
    "\n",
    "        xl = zeros(np)\n",
    "        xl[1] = a\n",
    "        # print(\"line 2\")\n",
    "        for i in 2:np\n",
    "            xl[i] = xl[i-1] + (h/k)\n",
    "        end\n",
    "\n",
    "        # definindo as matrizes globais\n",
    "        M = zeros(np, np)\n",
    "        F = zeros(np)\n",
    "        # print(\"line 3\")\n",
    "        # montando o problema global\n",
    "        max_iter = (nel * k - (k - 1))\n",
    "        for n in 1:max_iter\n",
    "            Me = zeros(nen, nen)\n",
    "            # print(\"line 3.1\")\n",
    "            Fe = zeros(nen)\n",
    "            # print(\"line 3.2\")\n",
    "            shg = shl(nen, nint)\n",
    "            # print(\"line 3.3\")\n",
    "            w = we(nint)\n",
    "            # print(\"line 3.4\")\n",
    "            # print(\"line 4\")\n",
    "            for l in 1:nint\n",
    "                xx = 0.0\n",
    "                for i in 1:nen\n",
    "                    xx=xx+shg[i,l]*xl[n+i-1]\n",
    "                end\n",
    "                # print(\"line 5\")\n",
    "                for j in 1:nen\n",
    "                    Fe[j] = Fe[j] + f(xx)*shg[j,l]*w[l]*h/2.0\n",
    "                    for i in 1:nen\n",
    "                        # print(\"line 6 \")\n",
    "                        Me[i,j] = Me[i,j] + shg[i,l]*shg[j,l]*w[l]*h/2.0\n",
    "                    end\n",
    "                end\n",
    "            end\n",
    "            # print(\"line 7\")\n",
    "            for j in 1:nen\n",
    "                F[n+j-1] = F[n+j-1] + Fe[j]\n",
    "                for i in 1:nen\n",
    "                    M[n+i-1,n+j-1] = M[n+i-1,n+j-1] + Me[i,j]\n",
    "                end\n",
    "            end\n",
    "        end\n",
    "        # print(\"line 8 \")\n",
    "        alpha = zeros(np)\n",
    "        alpha = M\\F\n",
    "        name_xl = \"resultados_xl_$(nel)_k_$(k).dat\"\n",
    "        name_alphas = \"resultados_alphas_$(nel)_k_$(k).dat\"\n",
    "        writedlm(name_xl, xl)\n",
    "        writedlm(name_alphas, alpha)\n",
    "        # erul2 = 0.;\n",
    "        # mm_iter = (nel*k-(k-1))\n",
    "        # for n in 1:mm_iter\n",
    "        #    eru =0.;\n",
    "        #    shg = shl(nen,nint);\n",
    "        #    w = we(nint);\n",
    "        #    for l in 1:nint\n",
    "        #        uh=0.0;\n",
    "        #        xx=0.0;\n",
    "        #        for i in 1:nen\n",
    "        #           uh=uh+shg[i,l]*alpha[n+i-1]\n",
    "        #           xx=xx+shg[i,l]*xl[n+i-1]\n",
    "        #        end\n",
    "        #        eru = eru +((f(xx)-uh)^2)*w[l]*h/2.0;\n",
    "        #    end\n",
    "        #    erul2 = eru;\n",
    "        # end\n",
    "        # erul2 = sqrt(erul2);\n",
    "        # h_s[pos] = h\n",
    "        # error[pos] = erul2 \n",
    "        # pos = pos + 1\n",
    "    end\n",
    "end\n"
   ]
  },
  {
   "cell_type": "code",
   "execution_count": 103,
   "id": "72fa3d24-b210-4016-adec-c51694005259",
   "metadata": {},
   "outputs": [
    {
     "name": "stdout",
     "output_type": "stream",
     "text": [
      "\n",
      "1\n"
     ]
    },
    {
     "name": "stderr",
     "output_type": "stream",
     "text": [
      "\u001b[33m\u001b[1m┌ \u001b[22m\u001b[39m\u001b[33m\u001b[1mWarning: \u001b[22m\u001b[39mNo strict ticks found\n",
      "\u001b[33m\u001b[1m└ \u001b[22m\u001b[39m\u001b[90m@ PlotUtils ~/.julia/packages/PlotUtils/mHQ0Q/src/ticks.jl:191\u001b[39m\n",
      "\u001b[33m\u001b[1m┌ \u001b[22m\u001b[39m\u001b[33m\u001b[1mWarning: \u001b[22m\u001b[39mNo strict ticks found\n",
      "\u001b[33m\u001b[1m└ \u001b[22m\u001b[39m\u001b[90m@ PlotUtils ~/.julia/packages/PlotUtils/mHQ0Q/src/ticks.jl:191\u001b[39m\n"
     ]
    },
    {
     "name": "stdout",
     "output_type": "stream",
     "text": [
      "\n",
      "2\n"
     ]
    },
    {
     "name": "stderr",
     "output_type": "stream",
     "text": [
      "GKS: Possible loss of precision in routine SET_WINDOW\n"
     ]
    },
    {
     "name": "stdout",
     "output_type": "stream",
     "text": [
      "\n",
      "3\n",
      "\n",
      "4\n"
     ]
    }
   ],
   "source": [
    "K = zeros(4)\n",
    "\n",
    "for i in 1:4\n",
    "    println(\"\")\n",
    "    println(i)\n",
    "    K[i] = i\n",
    "    simulate(i)\n",
    "end\n"
   ]
  }
 ],
 "metadata": {
  "kernelspec": {
   "display_name": "Julia 1.9.3",
   "language": "julia",
   "name": "julia-1.9"
  },
  "language_info": {
   "file_extension": ".jl",
   "mimetype": "application/julia",
   "name": "julia",
   "version": "1.9.3"
  }
 },
 "nbformat": 4,
 "nbformat_minor": 5
}
