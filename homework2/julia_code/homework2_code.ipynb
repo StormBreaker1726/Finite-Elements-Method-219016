{
 "cells": [
  {
   "cell_type": "code",
   "execution_count": 35,
   "id": "e757e255-48bc-4dea-a33f-3e9a4667311b",
   "metadata": {
    "tags": []
   },
   "outputs": [],
   "source": [
    "using DelimitedFiles\n",
    "using Plots\n",
    "using Printf"
   ]
  },
  {
   "cell_type": "code",
   "execution_count": 36,
   "id": "351fd6c0-8abe-433b-a3d8-72c82089e597",
   "metadata": {
    "tags": []
   },
   "outputs": [],
   "source": [
    "function f(x)\n",
    "    angle_in_radians = (π/1) * x\n",
    "    return sin(angle_in_radians)*sin(angle_in_radians)\n",
    "end\n",
    ";"
   ]
  },
  {
   "cell_type": "code",
   "execution_count": 37,
   "id": "79dfa3b7-d012-44e2-9fe8-21645b77db51",
   "metadata": {
    "tags": []
   },
   "outputs": [],
   "source": [
    "function we(nint)\n",
    "    w = zeros(nint)\n",
    "    if(nint == 2)\n",
    "        w[1] = 1.0\n",
    "        w[2] = 1.0\n",
    "    elseif(nint == 3)\n",
    "        w[1] = 5/9\n",
    "        w[2] = 8/9\n",
    "        w[3] = 5/9\n",
    "    elseif(nint == 4)\n",
    "        w[1] = (18 - sqrt(30.0))/36.0\n",
    "        w[2] = (18 + sqrt(30.0))/36.0\n",
    "        w[3] = (18 + sqrt(30.0))/36.0\n",
    "        w[4] = (18 - sqrt(30.0))/36.0\n",
    "    elseif(nint == 5)\n",
    "        w[1] = (322.0-13.0*sqrt(70.0))/900.0\n",
    "        w[2] = (322.0+13.0*sqrt(70.0))/900.0\n",
    "        w[3] = 128.0/225.0\n",
    "        w[4] = (322.0+13.0*sqrt(70.0))/900.0\n",
    "        w[5] = (322.0-13.0*sqrt(70.0))/900.0\n",
    "    end\n",
    "    return w\n",
    "end\n",
    ";"
   ]
  },
  {
   "cell_type": "code",
   "execution_count": 38,
   "id": "db2f6fcd-5f9b-4b2d-8123-08e3bd173f3b",
   "metadata": {
    "tags": []
   },
   "outputs": [],
   "source": [
    "function shl(nen,nint)\n",
    "    pt = zeros(nint)\n",
    "    w = zeros(nint)\n",
    "    # print(\"line 3.2.1\")\n",
    "    if(nint == 2)\n",
    "        pt[1] = -sqrt(3.)/3.;\n",
    "        pt[2] = sqrt(3.)/3.;\n",
    "        w[1] = 1.;\n",
    "        w[2] = 1.;\n",
    "    elseif(nint == 3)\n",
    "        pt[1] = sqrt(3/5);\n",
    "        pt[2] = 0;\n",
    "        pt[3] = -sqrt(3/5);\n",
    "        w[1] = 5/9;\n",
    "        w[2] = 8/9;\n",
    "        w[3] = 5/9;\n",
    "    elseif(nint == 4)\n",
    "        pt[1] = sqrt((3+2*sqrt(6/5))/7);\n",
    "        pt[2] = sqrt((3-2*sqrt(6/5))/7);\n",
    "        pt[3] = -sqrt((3-2*sqrt(6/5))/7);\n",
    "        pt[4] = -sqrt((3+2*sqrt(6/5))/7);\n",
    "        w[1] = (18-sqrt(30.))/36;\n",
    "        w[2] = (18+sqrt(30.))/36;\n",
    "        w[3] = (18+sqrt(30.))/36;\n",
    "        w[4] = (18-sqrt(30.))/36;\n",
    "    elseif(nint == 5)\n",
    "        pt[1] =  (1/3)*sqrt((5+2*sqrt(10/7)));\n",
    "        pt[2] =  (1/3)*sqrt((5-2*sqrt(10/7)));\n",
    "        pt[3] =   0;\n",
    "        pt[4] = -(1/3)*sqrt((5-2*sqrt(10/7)));\n",
    "        pt[5] = -(-1/3)*sqrt((5+2*sqrt(10/7)));\n",
    "        w[1] = (322-13*sqrt(70))/900;\n",
    "        w[2] = (322+13*sqrt(70))/900;\n",
    "        w[3] =  128/225;\n",
    "        w[4] = (322+13*sqrt(70))/900;\n",
    "        w[5] = (322-13*sqrt(70))/900;\n",
    "    end\n",
    "    sh = zeros(nen, nint)\n",
    "    for l=1:nint\n",
    "        t=pt[l];\n",
    "        if(nen==2)\n",
    "            sh[1,l] = (1.0-t)/2.0;\n",
    "            sh[2,l] = (1.0+t)/2.0;\n",
    "        elseif(nen==3)\n",
    "            sh[1,l] = t*(t-1.0)/2.0;\n",
    "            sh[2,l] = -(t-1)*(t+1);\n",
    "            sh[3,l] = t*(t+1.0)/2.0;\n",
    "        elseif(nen==4)\n",
    "            sh[1,l] = -( 9/16)*(t+(1/3))*(t-(1/3))*(t-1);\n",
    "            sh[2,l] =  (27/16)*(t+1)    *(t-(1/3))*(t-1);\n",
    "            sh[3,l] = -(27/16)*(t+1)    *(t+(1/3))*(t-1);\n",
    "            sh[4,l] =  ( 9/16)*(t+1)    *(t+(1/3))*(t-(1/3));\n",
    "        elseif(nen==5)\n",
    "            sh[1,l] =  (2/3)*(t+(1/2))*        t*(t-(1/2))*(t-1);\n",
    "            sh[2,l] = -(8/3)*    (t+1)*        t*(t-(1/2))*(t-1);\n",
    "            sh[3,l] =      4*    (t+1)*(t+(1/2))*(t-(1/2))*(t-1);\n",
    "            sh[4,l] = -(8/3)*    (t+1)*(t+(1/2))*        t*(t-1);\n",
    "            sh[5,l] =  (2/3)*    (t+1)*(t+(1/2))*        t*(t-(1/2));\t \n",
    "        end\n",
    "    end\n",
    "    return sh\n",
    "end\n",
    ";"
   ]
  },
  {
   "cell_type": "code",
   "execution_count": 39,
   "id": "1349db07-5027-45a1-bd38-79690d31c247",
   "metadata": {
    "tags": []
   },
   "outputs": [],
   "source": [
    "folder_path = \"graficos/\"\n",
    "\n",
    "if !isdir(folder_path)\n",
    "    mkdir(folder_path)\n",
    "end\n",
    ";"
   ]
  },
  {
   "cell_type": "code",
   "execution_count": 40,
   "id": "7e06de1a-3036-4133-b986-64d24997bef4",
   "metadata": {
    "tags": []
   },
   "outputs": [],
   "source": [
    "a = -2.0\n",
    "b = +2.0\n",
    ";"
   ]
  },
  {
   "cell_type": "code",
   "execution_count": 41,
   "id": "ee8f568a-c3ba-46c4-a789-dae887d3c528",
   "metadata": {
    "tags": []
   },
   "outputs": [],
   "source": [
    "k = 1\n",
    ";"
   ]
  },
  {
   "cell_type": "code",
   "execution_count": 42,
   "id": "1bc02404-22f1-4b80-9411-43e8fc214fdc",
   "metadata": {
    "tags": []
   },
   "outputs": [
    {
     "data": {
      "text/plain": [
       "simulate_l2 (generic function with 1 method)"
      ]
     },
     "execution_count": 42,
     "metadata": {},
     "output_type": "execute_result"
    }
   ],
   "source": [
    "function simulate_l2(max_degree, folder_to_save::String)\n",
    "    error = []\n",
    "    nell  = []\n",
    "    xl = []\n",
    "    n_values = [4^i for i in 1:(max_degree)]\n",
    "    for nel in n_values\n",
    "        # fig, axs = plot(layout=(1, 4), size=(800, 200))\n",
    "        for k in 1:4\n",
    "            \n",
    "            np = k * nel + 1 # número de nós da malha\n",
    "            nen = k + 1 # número de nós no elemento\n",
    "            nint = k + 1 # número de pontos de integração\n",
    "\n",
    "            h = (b - a)/nel # espaçamento entre os elementos\n",
    "\n",
    "            xl = zeros(np)\n",
    "            xl[1] = a\n",
    "            for i in 2:np\n",
    "                xl[i] = xl[i-1] + (h/k)\n",
    "            end\n",
    "\n",
    "            # definindo as matrizes globais\n",
    "            M = zeros(np, np)\n",
    "            F = zeros(np)\n",
    "            # montando o problema global\n",
    "            max_iter = (nel * k - (k - 1))\n",
    "            for n in 1:max_iter\n",
    "                Me = zeros(nen, nen)\n",
    "                Fe = zeros(nen)\n",
    "                shg = shl(nen, nint)\n",
    "                w = we(nint)\n",
    "                for l in 1:nint\n",
    "                    xx = 0.0\n",
    "                    for i in 1:nen\n",
    "                        xx=xx+shg[i,l]*xl[n+i-1]\n",
    "                    end\n",
    "                    for j in 1:nen\n",
    "                        Fe[j] = Fe[j] + f(xx)*shg[j,l]*w[l]*h/2.0\n",
    "                        for i in 1:nen\n",
    "                            Me[i,j] = Me[i,j] + shg[i,l]*shg[j,l]*w[l]*h/2.0\n",
    "                        end\n",
    "                    end\n",
    "                end\n",
    "                for j in 1:nen\n",
    "                    F[n+j-1] = F[n+j-1] + Fe[j]\n",
    "                    for i in 1:nen\n",
    "                        M[n+i-1,n+j-1] = M[n+i-1,n+j-1] + Me[i,j]\n",
    "                    end\n",
    "                end\n",
    "            end\n",
    "            alpha = zeros(np)\n",
    "            alpha = M\\F\n",
    "            solucao = alpha\n",
    "            \n",
    "            fig = plot(size=(1000, 500))\n",
    "            plot!(xl, solucao, label=\"aproximacao L2\")  # Continuous line\n",
    "            plot!(range(a, stop=b, length=100), x -> f(x), seriestype=:scatter, label=\"analitica\", ms=2.5)  # Scatter plot\n",
    "            title!(\"Grau = $k - nel = $nel\")\n",
    "            plot!(grid=true)  # Enable the grid\n",
    "            # savefig(\"grafico_nel$(nel)_grau$(k).png\")\n",
    "            savefig(joinpath(folder_to_save, \"grafico_nel_$(nel)_grau$(k).png\"))\n",
    "            # download(\"grafico_nel$nel_grau$k.png\")  # Uncomment if you want to download the file\n",
    "            # legend!(\"upper right\")\n",
    "            # display(fig)\n",
    "        end\n",
    "    end\n",
    "\n",
    "end\n"
   ]
  },
  {
   "cell_type": "code",
   "execution_count": 43,
   "id": "7526945a-fb60-458b-b781-68e88b44b901",
   "metadata": {},
   "outputs": [],
   "source": [
    "function simulate_mef(max_degree, folder_to_save::String)\n",
    "end\n",
    ";"
   ]
  },
  {
   "cell_type": "code",
   "execution_count": 46,
   "id": "72fa3d24-b210-4016-adec-c51694005259",
   "metadata": {
    "tags": []
   },
   "outputs": [
    {
     "name": "stdout",
     "output_type": "stream",
     "text": [
      "Tempo gasto: 3.6273e-01\n"
     ]
    }
   ],
   "source": [
    "subfolder_name = \"simulacao_da_projecao_l2\"\n",
    "\n",
    "full_path = joinpath(folder_path, subfolder_name)\n",
    "\n",
    "if !isdir(full_path)\n",
    "    mkdir(full_path)\n",
    "end\n",
    "\n",
    "elapsed_time = @elapsed begin\n",
    "    simulate_l2(6, full_path)\n",
    "end\n",
    "\n",
    "print(\"Tempo gasto: \")\n",
    "@printf(\"%.4e\\n\", elapsed_time)\n",
    "\n"
   ]
  },
  {
   "cell_type": "code",
   "execution_count": 47,
   "id": "d55433da-e9a2-45eb-b394-ef193a80d2f7",
   "metadata": {
    "tags": []
   },
   "outputs": [
    {
     "name": "stdout",
     "output_type": "stream",
     "text": [
      "Tempo gasto: 4.0000e-07\n"
     ]
    }
   ],
   "source": [
    "subfolder_name = \"simulacao_da_mef_questao_1\"\n",
    "\n",
    "full_path = joinpath(folder_path, subfolder_name)\n",
    "\n",
    "if !isdir(full_path)\n",
    "    mkdir(full_path)\n",
    "end\n",
    "\n",
    "elapsed_time = @elapsed begin\n",
    "    simulate_mef(6, full_path)\n",
    "end\n",
    "\n",
    "print(\"Tempo gasto: \")\n",
    "@printf(\"%.4e\\n\", elapsed_time)\n",
    "\n"
   ]
  }
 ],
 "metadata": {
  "kernelspec": {
   "display_name": "Julia 1.9.3",
   "language": "julia",
   "name": "julia-1.9"
  },
  "language_info": {
   "file_extension": ".jl",
   "mimetype": "application/julia",
   "name": "julia",
   "version": "1.9.3"
  }
 },
 "nbformat": 4,
 "nbformat_minor": 5
}
