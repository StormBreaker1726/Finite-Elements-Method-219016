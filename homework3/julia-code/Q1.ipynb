{
 "cells": [
  {
   "cell_type": "code",
   "execution_count": 1,
   "id": "3e9ef311-aa35-4903-9b32-a852ecfa1912",
   "metadata": {},
   "outputs": [],
   "source": [
    "using Plots\n",
    "using Printf"
   ]
  },
  {
   "cell_type": "code",
   "execution_count": 2,
   "id": "8dc39805-faf5-44c5-897b-2979f5190222",
   "metadata": {},
   "outputs": [
    {
     "data": {
      "text/plain": [
       "\"graficos/simulacao_do_MEF/Q1\""
      ]
     },
     "execution_count": 2,
     "metadata": {},
     "output_type": "execute_result"
    }
   ],
   "source": [
    "folder_path = \"graficos/\"\n",
    "\n",
    "if !isdir(folder_path)\n",
    "    mkdir(folder_path)\n",
    "end\n",
    ";\n",
    "\n",
    "subfolder_name = \"simulacao_do_MEF\"\n",
    "\n",
    "full_path = joinpath(folder_path, subfolder_name)\n",
    "\n",
    "if !isdir(full_path)\n",
    "    mkdir(full_path)\n",
    "end\n",
    "\n",
    "subfolder_name = \"Q3\"\n",
    "\n",
    "full_path = joinpath(full_path, subfolder_name)\n",
    "\n",
    "if !isdir(full_path)\n",
    "    mkdir(full_path)\n",
    "end\n",
    ";"
   ]
  }
 ],
 "metadata": {
  "kernelspec": {
   "display_name": "Julia 1.9.3",
   "language": "julia",
   "name": "julia-1.9"
  },
  "language_info": {
   "file_extension": ".jl",
   "mimetype": "application/julia",
   "name": "julia",
   "version": "1.9.3"
  }
 },
 "nbformat": 4,
 "nbformat_minor": 5
}
