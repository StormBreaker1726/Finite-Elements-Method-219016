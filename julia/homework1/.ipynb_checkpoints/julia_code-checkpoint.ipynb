{
 "cells": [
  {
   "cell_type": "code",
   "execution_count": 1,
   "id": "initial_id",
   "metadata": {},
   "outputs": [],
   "source": [
    "using SparseArrays"
   ]
  },
  {
   "cell_type": "code",
   "execution_count": 2,
   "id": "33c2b1ae-4a05-43eb-8ccc-c0ad071a7de3",
   "metadata": {},
   "outputs": [],
   "source": [
    "# domínio\n",
    "a = -2.0\n",
    "b = 2.0\n",
    ";"
   ]
  },
  {
   "cell_type": "code",
   "execution_count": 3,
   "id": "7ef80ff4-d3d6-44b2-a943-58dc405b0b8c",
   "metadata": {},
   "outputs": [
    {
     "name": "stdout",
     "output_type": "stream",
     "text": [
      "np = 4097, nen = 2, nint = 2"
     ]
    }
   ],
   "source": [
    "nel = 4096 # número de elementos\n",
    "k = 1 # grau do polinômio de interpolação\n",
    "np = k * nel + 1 # número total de nós na malha\n",
    "nen = k + 1 # número de nós do elemento\n",
    "nint = k + 1 # número de pontos de integração\n",
    "print(\"np = \", np,\", nen = \", nen, \", nint = \", nint, \"\")\n",
    ";"
   ]
  },
  {
   "cell_type": "code",
   "execution_count": 4,
   "id": "db22cb66-7fcf-4b0a-9913-7855ac283576",
   "metadata": {},
   "outputs": [],
   "source": [
    "h = (b-a)/nel\n",
    "\n",
    "xl = zeros(np)\n",
    "\n",
    "xl[1] = a\n",
    "for i in 2:np\n",
    "    xl[i] = xl[i-1] + h\n",
    "end"
   ]
  },
  {
   "cell_type": "code",
   "execution_count": null,
   "id": "7dabcc9e-03f6-41cc-bbc4-f3026f117764",
   "metadata": {},
   "outputs": [],
   "source": []
  },
  {
   "cell_type": "code",
   "execution_count": 5,
   "id": "33c3410d-26b3-4b38-ac9e-0711a0e62df4",
   "metadata": {},
   "outputs": [],
   "source": [
    "function f(x)\n",
    "    angle_in_radians = (π/1) * x\n",
    "    return sin(angle_in_radians)\n",
    "end\n",
    ";"
   ]
  },
  {
   "cell_type": "code",
   "execution_count": 6,
   "id": "bd488bcd-355e-47f1-b023-c593c9494fef",
   "metadata": {},
   "outputs": [],
   "source": [
    "# matrizes globais\n",
    "M = zeros(np, np)\n",
    "F = zeros(np)\n",
    ";"
   ]
  },
  {
   "cell_type": "code",
   "execution_count": 7,
   "id": "9c3fe077-169d-40ba-927e-92e4bf6b0d67",
   "metadata": {},
   "outputs": [],
   "source": [
    "function shl(nen, nint)\n",
    "    if nint == 2\n",
    "        pt = zeros(2)\n",
    "        w = pt = zeros(2)\n",
    "\n",
    "        pt[1] = -sqrt(3.0)/3.0\n",
    "        pt[1] = sqrt(3.0)/3.0\n",
    "\n",
    "        w[1] = 1.0\n",
    "        w[1] = 1.0\n",
    "        sh = zeros(2, nint)\n",
    "    end\n",
    "\n",
    "    for l in 1:nint\n",
    "        t = pt[l]\n",
    "        if nen == 2\n",
    "            sh[1,l] = (1.0-t)/2.0;\n",
    "            sh[2,l] = (1.0+t)/2.0;\n",
    "        end\n",
    "    end\n",
    "\n",
    "    return sh\n",
    "end\n",
    ";"
   ]
  },
  {
   "cell_type": "code",
   "execution_count": 8,
   "id": "27bce041-5fa3-40ae-8e5d-7820a7ee57af",
   "metadata": {},
   "outputs": [],
   "source": [
    "function we(nint)\n",
    "    w = zeros(2)\n",
    "    if nint == 2\n",
    "        w[1] = 1.0\n",
    "        w[2] = 1.0\n",
    "    end\n",
    "    return w\n",
    "end\n",
    ";"
   ]
  },
  {
   "cell_type": "code",
   "execution_count": 9,
   "id": "d2c49a61-4f58-4796-8ad7-98cf64dc9698",
   "metadata": {},
   "outputs": [
    {
     "data": {
      "text/plain": [
       "2-element Vector{Float64}:\n",
       " 1.0\n",
       " 1.0"
      ]
     },
     "execution_count": 9,
     "metadata": {},
     "output_type": "execute_result"
    }
   ],
   "source": [
    "we(nint)"
   ]
  },
  {
   "cell_type": "code",
   "execution_count": null,
   "id": "d2162b69-4dc8-4e28-a3e2-2a2610e603a3",
   "metadata": {},
   "outputs": [],
   "source": []
  },
  {
   "cell_type": "code",
   "execution_count": 10,
   "id": "c4665c80-f828-4f42-b7d2-f059012e90f6",
   "metadata": {},
   "outputs": [
    {
     "ename": "LoadError",
     "evalue": "InterruptException:",
     "output_type": "error",
     "traceback": [
      "InterruptException:",
      "",
      "Stacktrace:",
      " [1] Array",
      "   @ ./boot.jl:477 [inlined]",
      " [2] Array",
      "   @ ./boot.jl:486 [inlined]",
      " [3] zeros",
      "   @ ./array.jl:584 [inlined]",
      " [4] zeros",
      "   @ ./array.jl:581 [inlined]",
      " [5] zeros(dims::Int64)",
      "   @ Base ./array.jl:579",
      " [6] top-level scope",
      "   @ ./In[10]:3"
     ]
    }
   ],
   "source": [
    "for n in 1:nel\n",
    "    Me = zeros(np, np)\n",
    "    Fe = zeros(np)\n",
    "    shg = shl(nen, nint)\n",
    "    w = we(nint)\n",
    "\n",
    "    for l in 1:nint\n",
    "        xx = 0\n",
    "        for i in 1:nen\n",
    "            xx = xx + shg[i,l]*xl[n+i-1]\n",
    "        end\n",
    "        for j in 1:nen\n",
    "            Fe[j] = Fe[j] + f(xx) * shg[j,l] * w[l] * (h/2.0)\n",
    "            for i in 1:nen\n",
    "                Me[i,j] = Me[i,j] + shg[i,l] * shg[j,l] * w[l] * (h/2.0)\n",
    "            end\n",
    "        end\n",
    "    end\n",
    "    for j in 1:nen\n",
    "        F[n+j-1] = F[n+j-1] + Fe[j]\n",
    "        for i in 1:nen\n",
    "            M[n+i-1, n+j-1] = M[n+i-1, n+j-1] + Me[i,j]\n",
    "        end\n",
    "    end\n",
    "end\n",
    "\n"
   ]
  },
  {
   "cell_type": "code",
   "execution_count": 11,
   "id": "184f1d8d-6df9-49a2-9d03-7cdc975d784b",
   "metadata": {},
   "outputs": [],
   "source": [
    "using LinearAlgebra"
   ]
  },
  {
   "cell_type": "code",
   "execution_count": 12,
   "id": "9e669212-8075-4ead-9dc6-2039d6285375",
   "metadata": {},
   "outputs": [
    {
     "ename": "LoadError",
     "evalue": "SingularException(1836)",
     "output_type": "error",
     "traceback": [
      "SingularException(1836)",
      "",
      "Stacktrace:",
      " [1] checknonsingular",
      "   @ /opt/julia-1.9.3/share/julia/stdlib/v1.9/LinearAlgebra/src/factorization.jl:19 [inlined]",
      " [2] checknonsingular",
      "   @ /opt/julia-1.9.3/share/julia/stdlib/v1.9/LinearAlgebra/src/factorization.jl:22 [inlined]",
      " [3] #lu!#170",
      "   @ /opt/julia-1.9.3/share/julia/stdlib/v1.9/LinearAlgebra/src/lu.jl:82 [inlined]",
      " [4] lu!",
      "   @ /opt/julia-1.9.3/share/julia/stdlib/v1.9/LinearAlgebra/src/lu.jl:80 [inlined]",
      " [5] #lu#176",
      "   @ /opt/julia-1.9.3/share/julia/stdlib/v1.9/LinearAlgebra/src/lu.jl:299 [inlined]",
      " [6] lu (repeats 2 times)",
      "   @ /opt/julia-1.9.3/share/julia/stdlib/v1.9/LinearAlgebra/src/lu.jl:298 [inlined]",
      " [7] \\(A::Matrix{Float64}, B::Vector{Float64})",
      "   @ LinearAlgebra /opt/julia-1.9.3/share/julia/stdlib/v1.9/LinearAlgebra/src/generic.jl:1115",
      " [8] top-level scope",
      "   @ In[12]:1"
     ]
    }
   ],
   "source": [
    "alpha = M\\F"
   ]
  },
  {
   "cell_type": "code",
   "execution_count": 13,
   "id": "dadf99bb-e067-4ee9-a225-144725143acd",
   "metadata": {},
   "outputs": [
    {
     "ename": "LoadError",
     "evalue": "UndefVarError: `alpha` not defined",
     "output_type": "error",
     "traceback": [
      "UndefVarError: `alpha` not defined",
      "",
      "Stacktrace:",
      " [1] top-level scope",
      "   @ In[13]:4"
     ]
    }
   ],
   "source": [
    "using DelimitedFiles\n",
    "\n",
    "writedlm(\"resultados_xl.dat\", xl)\n",
    "writedlm(\"resultados_alphas.dat\", alpha)\n"
   ]
  }
 ],
 "metadata": {
  "kernelspec": {
   "display_name": "Julia 1.9.3",
   "language": "julia",
   "name": "julia-1.9"
  },
  "language_info": {
   "file_extension": ".jl",
   "mimetype": "application/julia",
   "name": "julia",
   "version": "1.9.3"
  }
 },
 "nbformat": 4,
 "nbformat_minor": 5
}
